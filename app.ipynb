from flask import Flask
from flask import request, render_template
from scipy import stats
import numpy as np 
import pandas as pd
import joblib

app = Flask(__name__)

@app.route("/", methods = ["GET", "POST"])
def i():
    if request.method == "POST":
        age = request.form.get("age")
        income = request.form.get("income")
        loan = request.form.get("loan")
        
        regressionmodel = joblib.load("Regression")
        decisiontreemodel = joblib.load("decisiontree")
        randomforestmodel = joblib.load("randomforest")
        xgboostmodel = joblib.load("xgboost")
        neuralnetmodel = joblib.load("neuralnet")

        regressionpred = regressionmodel.predict([[float(age), float(loan), float(income)]])
        decisiontreepred = decisiontreemodel.predict([[float(age), float(loan), float(income)]])
        randomforestpred = randomforestmodel.predict([[float(age), float(loan), float(income)]])
        xgboostpred = xgboostmodel.predict([[float(age), float(loan), float(income)]])
        nnpred = neuralnetmodel.predict([[float(age), float(loan), float(income)]])

        return(render_template("index.html", result1 = regressionpred, result2=decisiontreepred, result3=randomforestpred, result4=xgboostpred, result5=nnpred))
    else:
        return(render_template("index.html"))

if __name__=="__main__":
    app.run()

